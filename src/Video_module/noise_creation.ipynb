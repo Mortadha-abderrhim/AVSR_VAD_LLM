{
 "cells": [
  {
   "attachments": {},
   "cell_type": "markdown",
   "metadata": {},
   "source": [
    "## Add noise to saved videos"
   ]
  },
  {
   "cell_type": "code",
   "execution_count": 17,
   "metadata": {},
   "outputs": [],
   "source": [
    "from moviepy.editor import VideoFileClip\n",
    "import numpy as np\n",
    "\n",
    "def noise_creation(video_path):\n",
    "    \n",
    "    # Split the original path to get the output path\n",
    "    output_path = video_path.split('noise0')\n",
    "    filename = video_path.split('noise0')[-1]\n",
    "\n",
    "    # Load the video\n",
    "    video = VideoFileClip(video_path)\n",
    "    # Extract the audio from the video\n",
    "    audio = video.audio\n",
    "    # Convert audio to numpy array\n",
    "    audio_array = audio.to_soundarray()\n",
    "\n",
    "    # create a loop that adds noise to the audio and saves the video with 3 different noise levels (1, 2, 3)\n",
    "    for i in range(3):\n",
    "        noise_mean = 0\n",
    "        noise_std = 0.01 * (i + 1)  # Adjust this value to control the intensity of the noise\n",
    "\n",
    "        # Generate random noise with the same length as the audio\n",
    "        noise = np.random.normal(noise_mean, noise_std, audio_array.shape)\n",
    "\n",
    "        # Add the noise to the audio\n",
    "        noisy_audio_array = audio_array + noise\n",
    "\n",
    "        # Convert the modified audio array back to AudioFileClip\n",
    "        noisy_audio = audio.set_audio_from_array(noisy_audio_array)\n",
    "\n",
    "        # Set the modified audio back to the video\n",
    "        noisy_video = video.set_audio(noisy_audio)\n",
    "\n",
    "        # Save the noisy video\n",
    "        output_path = output_path[0] + 'noise' + str(i + 1) + filename\n",
    "        noisy_video.write_videofile(output_path, codec='libx264', audio_codec='aac')\n",
    "\n",
    "   "
   ]
  },
  {
   "cell_type": "code",
   "execution_count": 30,
   "metadata": {},
   "outputs": [],
   "source": [
    "from moviepy.editor import VideoFileClip\n",
    "from moviepy.audio.AudioClip import AudioArrayClip\n",
    "import numpy as np\n",
    "import os\n",
    "\n",
    "def noise_creation(video_path):\n",
    "\n",
    "    # Split the original path to get the output path\n",
    "    output_path = video_path.split('noise0')\n",
    "    filename = video_path.split('noise0')[-1]\n",
    "\n",
    "    # Read the video file\n",
    "    clip = VideoFileClip(video_path)\n",
    "\n",
    "    # Extract the audio and convert it to a numpy array\n",
    "    audio = clip.audio\n",
    "    audio_array = audio.to_soundarray()\n",
    "\n",
    "    # create a loop that adds noise to the audio and saves the video with 3 different noise levels (1, 2, 3)\n",
    "    for i in range(3):\n",
    "        noise_mean = 0\n",
    "        noise_std = 0.01 * (i + 1)  # Adjust this value to control the intensity of the noise\n",
    "\n",
    "        # Add Gaussian noise to the audio\n",
    "        noisy_audio_array = audio_array + np.random.normal(noise_mean, noise_std, audio_array.shape)\n",
    "\n",
    "        # Convert the noisy audio back to an AudioClip\n",
    "        noisy_audio = AudioArrayClip(noisy_audio_array, fps=audio.fps)\n",
    "\n",
    "        # Replace the original audio in the video with the noisy audio\n",
    "        noisy_clip = clip.set_audio(noisy_audio)\n",
    "\n",
    "        # Write the output video file\n",
    "        output_path = output_path[0] + 'noise' + str(i + 1) + filename\n",
    "\n",
    "        # check if the directory exists\n",
    "        if not os.path.exists(os.path.dirname(output_path)):\n",
    "            os.makedirs(os.path.dirname(output_path))\n",
    "\n",
    "        noisy_clip.write_videofile(output_path)\n"
   ]
  },
  {
   "cell_type": "code",
   "execution_count": 38,
   "metadata": {},
   "outputs": [
    {
     "name": "stderr",
     "output_type": "stream",
     "text": [
      "t:   1%|▏         | 2/159 [14:26<18:53:10, 433.06s/it, now=None]"
     ]
    },
    {
     "name": "stdout",
     "output_type": "stream",
     "text": [
      "/home/chiliadmin/Documents/catkin_ws/src/Visual_module/video_saved2/adrien/noise0/\n",
      "/home/chiliadmin/Documents/catkin_ws/src/Visual_module/video_saved2/adrien/noise0/Its_raining_cats_and_dogs.mp4\n",
      "Moviepy - Building video /home/chiliadmin/Documents/catkin_ws/src/Visual_module/video_saved2/adrien/noise1/Its_raining_cats_and_dogs.mp4.\n",
      "MoviePy - Writing audio in Its_raining_cats_and_dogsTEMP_MPY_wvf_snd.mp3\n"
     ]
    },
    {
     "name": "stderr",
     "output_type": "stream",
     "text": [
      "t:   1%|▏         | 2/159 [14:26<18:53:16, 433.10s/it, now=None]"
     ]
    },
    {
     "name": "stdout",
     "output_type": "stream",
     "text": [
      "MoviePy - Done.\n",
      "Moviepy - Writing video /home/chiliadmin/Documents/catkin_ws/src/Visual_module/video_saved2/adrien/noise1/Its_raining_cats_and_dogs.mp4\n",
      "\n"
     ]
    },
    {
     "name": "stderr",
     "output_type": "stream",
     "text": [
      "t:   1%|▏         | 2/159 [14:26<18:53:55, 433.34s/it, now=None]"
     ]
    },
    {
     "name": "stdout",
     "output_type": "stream",
     "text": [
      "Moviepy - Done !\n",
      "Moviepy - video ready /home/chiliadmin/Documents/catkin_ws/src/Visual_module/video_saved2/adrien/noise1/Its_raining_cats_and_dogs.mp4\n"
     ]
    },
    {
     "ename": "PermissionError",
     "evalue": "[Errno 13] Permission denied: '/noise2'",
     "output_type": "error",
     "traceback": [
      "\u001b[0;31m---------------------------------------------------------------------------\u001b[0m",
      "\u001b[0;31mPermissionError\u001b[0m                           Traceback (most recent call last)",
      "Cell \u001b[0;32mIn [38], line 10\u001b[0m\n\u001b[1;32m      8\u001b[0m participant_video_path \u001b[39m=\u001b[39m participant_path \u001b[39m+\u001b[39m file\n\u001b[1;32m      9\u001b[0m \u001b[39mprint\u001b[39m(participant_video_path)\n\u001b[0;32m---> 10\u001b[0m noise_creation(participant_video_path)\n",
      "Cell \u001b[0;32mIn [30], line 38\u001b[0m, in \u001b[0;36mnoise_creation\u001b[0;34m(video_path)\u001b[0m\n\u001b[1;32m     36\u001b[0m \u001b[39m# check if the directory exists\u001b[39;00m\n\u001b[1;32m     37\u001b[0m \u001b[39mif\u001b[39;00m \u001b[39mnot\u001b[39;00m os\u001b[39m.\u001b[39mpath\u001b[39m.\u001b[39mexists(os\u001b[39m.\u001b[39mpath\u001b[39m.\u001b[39mdirname(output_path)):\n\u001b[0;32m---> 38\u001b[0m     os\u001b[39m.\u001b[39;49mmakedirs(os\u001b[39m.\u001b[39;49mpath\u001b[39m.\u001b[39;49mdirname(output_path))\n\u001b[1;32m     40\u001b[0m noisy_clip\u001b[39m.\u001b[39mwrite_videofile(output_path)\n",
      "File \u001b[0;32m/usr/lib/python3.8/os.py:223\u001b[0m, in \u001b[0;36mmakedirs\u001b[0;34m(name, mode, exist_ok)\u001b[0m\n\u001b[1;32m    221\u001b[0m         \u001b[39mreturn\u001b[39;00m\n\u001b[1;32m    222\u001b[0m \u001b[39mtry\u001b[39;00m:\n\u001b[0;32m--> 223\u001b[0m     mkdir(name, mode)\n\u001b[1;32m    224\u001b[0m \u001b[39mexcept\u001b[39;00m \u001b[39mOSError\u001b[39;00m:\n\u001b[1;32m    225\u001b[0m     \u001b[39m# Cannot rely on checking for EEXIST, since the operating system\u001b[39;00m\n\u001b[1;32m    226\u001b[0m     \u001b[39m# could give priority to other errors like EACCES or EROFS\u001b[39;00m\n\u001b[1;32m    227\u001b[0m     \u001b[39mif\u001b[39;00m \u001b[39mnot\u001b[39;00m exist_ok \u001b[39mor\u001b[39;00m \u001b[39mnot\u001b[39;00m path\u001b[39m.\u001b[39misdir(name):\n",
      "\u001b[0;31mPermissionError\u001b[0m: [Errno 13] Permission denied: '/noise2'"
     ]
    }
   ],
   "source": [
    "video_path = \"/home/chiliadmin/Documents/catkin_ws/src/Visual_module/video_saved2/\"\n",
    "video_folder = \"/home/chiliadmin/Documents/catkin_ws/src/Evaluator/video_folder_names/video_path_all.txt\"\n",
    "# create a loop that iterates over the video_folder txt to recover the name of the videos, adds it to the path and calls the function\n",
    "for line in open(video_folder):\n",
    "    participant_path = video_path + line.strip() + \"/noise0/\"\n",
    "    print( participant_path)\n",
    "    for file in os.listdir(participant_path):\n",
    "        participant_video_path = participant_path + file\n",
    "        print(participant_video_path)\n",
    "        noise_creation(participant_video_path)"
   ]
  },
  {
   "cell_type": "code",
   "execution_count": null,
   "metadata": {},
   "outputs": [],
   "source": []
  }
 ],
 "metadata": {
  "kernelspec": {
   "display_name": "Python 3",
   "language": "python",
   "name": "python3"
  },
  "language_info": {
   "codemirror_mode": {
    "name": "ipython",
    "version": 3
   },
   "file_extension": ".py",
   "mimetype": "text/x-python",
   "name": "python",
   "nbconvert_exporter": "python",
   "pygments_lexer": "ipython3",
   "version": "3.8.10"
  },
  "orig_nbformat": 4,
  "vscode": {
   "interpreter": {
    "hash": "916dbcbb3f70747c44a77c7bcd40155683ae19c65e1c03b4aa3499c5328201f1"
   }
  }
 },
 "nbformat": 4,
 "nbformat_minor": 2
}
